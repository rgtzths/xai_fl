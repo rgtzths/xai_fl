{
 "cells": [
  {
   "cell_type": "code",
   "execution_count": 1,
   "metadata": {},
   "outputs": [],
   "source": [
    "import pandas as pd\n",
    "import numpy as np\n",
    "import pathlib\n",
    "\n",
    "dataset_path = \"./divided/train/8_workers/\"\n",
    "output_path = \"./divided/train/1_worker/\"\n",
    "\n",
    "output = pathlib.Path(output_path)\n",
    "output.mkdir(parents=True, exist_ok=True)\n",
    "\n",
    "dataset =  pathlib.Path(dataset_path)\n",
    "\n",
    "files = [x for x in dataset.iterdir() if x.is_file()]\n",
    "\n"
   ]
  },
  {
   "cell_type": "code",
   "execution_count": 2,
   "metadata": {},
   "outputs": [],
   "source": [
    "x_file = open(output/f\"x_train.csv\", \"wb\")\n",
    "y_file = open(output/f\"y_train.csv\", \"wb\")\n",
    "\n",
    "\n",
    "for file in files:\n",
    "    if \"y_\" in str(file):\n",
    "        y = np.loadtxt(file, delimiter=\",\", dtype=int)\n",
    "        np.savetxt(y_file, y, delimiter=\",\", fmt=\"%d\")\n",
    "    else:\n",
    "        X = np.loadtxt(file, delimiter=\",\")\n",
    "        np.savetxt(x_file, X, delimiter=\",\", fmt=\"%5.2f\")\n",
    "\n",
    "x_file.close()\n",
    "y_file.close()"
   ]
  },
  {
   "cell_type": "code",
   "execution_count": null,
   "metadata": {},
   "outputs": [],
   "source": []
  }
 ],
 "metadata": {
  "kernelspec": {
   "display_name": "xai_fl",
   "language": "python",
   "name": "python3"
  },
  "language_info": {
   "codemirror_mode": {
    "name": "ipython",
    "version": 3
   },
   "file_extension": ".py",
   "mimetype": "text/x-python",
   "name": "python",
   "nbconvert_exporter": "python",
   "pygments_lexer": "ipython3",
   "version": "3.10.12"
  },
  "orig_nbformat": 4
 },
 "nbformat": 4,
 "nbformat_minor": 2
}
